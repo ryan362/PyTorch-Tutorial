{
 "cells": [
  {
   "cell_type": "code",
   "execution_count": 18,
   "id": "f5ebabcb-f2c4-40f1-987b-4eb3f51b9069",
   "metadata": {
    "execution": {
     "iopub.execute_input": "2022-09-26T14:32:22.018877Z",
     "iopub.status.busy": "2022-09-26T14:32:22.018484Z",
     "iopub.status.idle": "2022-09-26T14:32:24.117011Z",
     "shell.execute_reply": "2022-09-26T14:32:24.115777Z",
     "shell.execute_reply.started": "2022-09-26T14:32:22.018850Z"
    }
   },
   "outputs": [],
   "source": [
    "import torch\n",
    "import pandas as pd\n",
    "import numpy as np\n",
    "import matplotlib.pyplot as plt"
   ]
  },
  {
   "cell_type": "code",
   "execution_count": 2,
   "id": "a6dca48a-8e9a-41c1-a1bb-446c82152f95",
   "metadata": {
    "execution": {
     "iopub.execute_input": "2022-09-26T11:17:08.710016Z",
     "iopub.status.busy": "2022-09-26T11:17:08.709624Z",
     "iopub.status.idle": "2022-09-26T11:17:08.721875Z",
     "shell.execute_reply": "2022-09-26T11:17:08.721209Z",
     "shell.execute_reply.started": "2022-09-26T11:17:08.709990Z"
    }
   },
   "outputs": [
    {
     "data": {
      "text/plain": [
       "tensor(7)"
      ]
     },
     "execution_count": 2,
     "metadata": {},
     "output_type": "execute_result"
    }
   ],
   "source": [
    "# Scalar\n",
    "scalar = torch.tensor(7)\n",
    "scalar"
   ]
  },
  {
   "cell_type": "code",
   "execution_count": 3,
   "id": "85a7d7aa-dff1-44b3-9f65-ed6cf1e84a42",
   "metadata": {
    "execution": {
     "iopub.execute_input": "2022-09-26T11:17:08.723434Z",
     "iopub.status.busy": "2022-09-26T11:17:08.723149Z",
     "iopub.status.idle": "2022-09-26T11:17:08.728678Z",
     "shell.execute_reply": "2022-09-26T11:17:08.727791Z",
     "shell.execute_reply.started": "2022-09-26T11:17:08.723410Z"
    }
   },
   "outputs": [
    {
     "data": {
      "text/plain": [
       "0"
      ]
     },
     "execution_count": 3,
     "metadata": {},
     "output_type": "execute_result"
    }
   ],
   "source": [
    "scalar.ndim"
   ]
  },
  {
   "cell_type": "code",
   "execution_count": 4,
   "id": "ca313244-1f99-43be-a807-566266fd89a5",
   "metadata": {
    "execution": {
     "iopub.execute_input": "2022-09-26T11:17:08.730939Z",
     "iopub.status.busy": "2022-09-26T11:17:08.730696Z",
     "iopub.status.idle": "2022-09-26T11:17:08.736310Z",
     "shell.execute_reply": "2022-09-26T11:17:08.735510Z",
     "shell.execute_reply.started": "2022-09-26T11:17:08.730917Z"
    }
   },
   "outputs": [
    {
     "data": {
      "text/plain": [
       "7"
      ]
     },
     "execution_count": 4,
     "metadata": {},
     "output_type": "execute_result"
    }
   ],
   "source": [
    "# Get Item Back\n",
    "scalar.item()"
   ]
  },
  {
   "cell_type": "code",
   "execution_count": 5,
   "id": "ce913acd-010c-4950-a7aa-73c0022e5a30",
   "metadata": {
    "execution": {
     "iopub.execute_input": "2022-09-26T11:17:08.738021Z",
     "iopub.status.busy": "2022-09-26T11:17:08.737744Z",
     "iopub.status.idle": "2022-09-26T11:17:08.743580Z",
     "shell.execute_reply": "2022-09-26T11:17:08.742859Z",
     "shell.execute_reply.started": "2022-09-26T11:17:08.737997Z"
    }
   },
   "outputs": [
    {
     "data": {
      "text/plain": [
       "tensor([7, 7])"
      ]
     },
     "execution_count": 5,
     "metadata": {},
     "output_type": "execute_result"
    }
   ],
   "source": [
    "#Vector\n",
    "vector = torch.tensor([7, 7])\n",
    "vector"
   ]
  },
  {
   "cell_type": "code",
   "execution_count": 6,
   "id": "3e2239c8-c5da-4f07-a614-c48597b1ba1d",
   "metadata": {
    "execution": {
     "iopub.execute_input": "2022-09-26T11:17:08.744983Z",
     "iopub.status.busy": "2022-09-26T11:17:08.744720Z",
     "iopub.status.idle": "2022-09-26T11:17:08.749644Z",
     "shell.execute_reply": "2022-09-26T11:17:08.748808Z",
     "shell.execute_reply.started": "2022-09-26T11:17:08.744959Z"
    }
   },
   "outputs": [
    {
     "data": {
      "text/plain": [
       "1"
      ]
     },
     "execution_count": 6,
     "metadata": {},
     "output_type": "execute_result"
    }
   ],
   "source": [
    "vector.ndim"
   ]
  },
  {
   "cell_type": "code",
   "execution_count": 7,
   "id": "1dbbe5ef-f697-41ee-8742-130a7540c146",
   "metadata": {
    "execution": {
     "iopub.execute_input": "2022-09-26T11:17:08.750940Z",
     "iopub.status.busy": "2022-09-26T11:17:08.750702Z",
     "iopub.status.idle": "2022-09-26T11:17:08.755401Z",
     "shell.execute_reply": "2022-09-26T11:17:08.754696Z",
     "shell.execute_reply.started": "2022-09-26T11:17:08.750918Z"
    }
   },
   "outputs": [
    {
     "data": {
      "text/plain": [
       "torch.Size([2])"
      ]
     },
     "execution_count": 7,
     "metadata": {},
     "output_type": "execute_result"
    }
   ],
   "source": [
    "vector.shape"
   ]
  },
  {
   "cell_type": "code",
   "execution_count": 8,
   "id": "e16db47b-5ba5-4f3f-9f50-37b9b5c0b148",
   "metadata": {
    "execution": {
     "iopub.execute_input": "2022-09-26T11:17:08.756809Z",
     "iopub.status.busy": "2022-09-26T11:17:08.756558Z",
     "iopub.status.idle": "2022-09-26T11:17:08.762624Z",
     "shell.execute_reply": "2022-09-26T11:17:08.761539Z",
     "shell.execute_reply.started": "2022-09-26T11:17:08.756786Z"
    }
   },
   "outputs": [
    {
     "data": {
      "text/plain": [
       "tensor([[ 7,  8],\n",
       "        [ 9, 10]])"
      ]
     },
     "execution_count": 8,
     "metadata": {},
     "output_type": "execute_result"
    }
   ],
   "source": [
    "# MATRIX\n",
    "MATRIX = torch.tensor([[7, 8],\n",
    "                       [9, 10]])\n",
    "MATRIX"
   ]
  },
  {
   "cell_type": "code",
   "execution_count": 9,
   "id": "b988c746-a711-42b4-8757-e2bf429bbfb5",
   "metadata": {
    "execution": {
     "iopub.execute_input": "2022-09-26T11:17:08.764070Z",
     "iopub.status.busy": "2022-09-26T11:17:08.763840Z",
     "iopub.status.idle": "2022-09-26T11:17:08.769769Z",
     "shell.execute_reply": "2022-09-26T11:17:08.768743Z",
     "shell.execute_reply.started": "2022-09-26T11:17:08.764049Z"
    }
   },
   "outputs": [
    {
     "data": {
      "text/plain": [
       "2"
      ]
     },
     "execution_count": 9,
     "metadata": {},
     "output_type": "execute_result"
    }
   ],
   "source": [
    "MATRIX.ndim"
   ]
  },
  {
   "cell_type": "code",
   "execution_count": 10,
   "id": "be3b86c7-19d3-4147-9da8-741349e750b7",
   "metadata": {
    "execution": {
     "iopub.execute_input": "2022-09-26T11:17:08.772916Z",
     "iopub.status.busy": "2022-09-26T11:17:08.772679Z",
     "iopub.status.idle": "2022-09-26T11:17:08.778652Z",
     "shell.execute_reply": "2022-09-26T11:17:08.777985Z",
     "shell.execute_reply.started": "2022-09-26T11:17:08.772894Z"
    }
   },
   "outputs": [
    {
     "data": {
      "text/plain": [
       "tensor([7, 8])"
      ]
     },
     "execution_count": 10,
     "metadata": {},
     "output_type": "execute_result"
    }
   ],
   "source": [
    "MATRIX[0]"
   ]
  },
  {
   "cell_type": "code",
   "execution_count": 11,
   "id": "45339501-715f-420f-b87f-cb83b2398ac0",
   "metadata": {
    "execution": {
     "iopub.execute_input": "2022-09-26T11:17:08.779913Z",
     "iopub.status.busy": "2022-09-26T11:17:08.779643Z",
     "iopub.status.idle": "2022-09-26T11:17:08.784836Z",
     "shell.execute_reply": "2022-09-26T11:17:08.784129Z",
     "shell.execute_reply.started": "2022-09-26T11:17:08.779863Z"
    }
   },
   "outputs": [
    {
     "data": {
      "text/plain": [
       "tensor([ 9, 10])"
      ]
     },
     "execution_count": 11,
     "metadata": {},
     "output_type": "execute_result"
    }
   ],
   "source": [
    "MATRIX[1]"
   ]
  },
  {
   "cell_type": "code",
   "execution_count": 12,
   "id": "856e83c6-6b08-4e9a-acc8-2a5577f336dd",
   "metadata": {
    "execution": {
     "iopub.execute_input": "2022-09-26T11:17:08.786114Z",
     "iopub.status.busy": "2022-09-26T11:17:08.785871Z",
     "iopub.status.idle": "2022-09-26T11:17:08.790424Z",
     "shell.execute_reply": "2022-09-26T11:17:08.789594Z",
     "shell.execute_reply.started": "2022-09-26T11:17:08.786092Z"
    }
   },
   "outputs": [
    {
     "data": {
      "text/plain": [
       "torch.Size([2, 2])"
      ]
     },
     "execution_count": 12,
     "metadata": {},
     "output_type": "execute_result"
    }
   ],
   "source": [
    "MATRIX.shape"
   ]
  },
  {
   "cell_type": "code",
   "execution_count": 13,
   "id": "92251246-1f38-49e9-accf-0e8b4baedab3",
   "metadata": {
    "execution": {
     "iopub.execute_input": "2022-09-26T11:17:08.791675Z",
     "iopub.status.busy": "2022-09-26T11:17:08.791388Z",
     "iopub.status.idle": "2022-09-26T11:17:08.798462Z",
     "shell.execute_reply": "2022-09-26T11:17:08.797556Z",
     "shell.execute_reply.started": "2022-09-26T11:17:08.791637Z"
    }
   },
   "outputs": [
    {
     "data": {
      "text/plain": [
       "tensor([[[1, 2, 3],\n",
       "         [3, 6, 9],\n",
       "         [2, 4, 5]]])"
      ]
     },
     "execution_count": 13,
     "metadata": {},
     "output_type": "execute_result"
    }
   ],
   "source": [
    "# TENSOR\n",
    "TENSOR = torch.tensor([[[1, 2, 3],\n",
    "                        [3, 6, 9],\n",
    "                        [2, 4, 5]]])\n",
    "TENSOR"
   ]
  },
  {
   "cell_type": "code",
   "execution_count": 14,
   "id": "df6dd25f-3e3f-4559-ac7d-3a95a6174ac6",
   "metadata": {
    "execution": {
     "iopub.execute_input": "2022-09-26T11:17:08.799726Z",
     "iopub.status.busy": "2022-09-26T11:17:08.799473Z",
     "iopub.status.idle": "2022-09-26T11:17:08.805504Z",
     "shell.execute_reply": "2022-09-26T11:17:08.804535Z",
     "shell.execute_reply.started": "2022-09-26T11:17:08.799704Z"
    }
   },
   "outputs": [
    {
     "data": {
      "text/plain": [
       "3"
      ]
     },
     "execution_count": 14,
     "metadata": {},
     "output_type": "execute_result"
    }
   ],
   "source": [
    "TENSOR.ndim"
   ]
  },
  {
   "cell_type": "code",
   "execution_count": 15,
   "id": "3e81edc5-6763-4c86-aa71-bf3d9e9dba2b",
   "metadata": {
    "execution": {
     "iopub.execute_input": "2022-09-26T11:17:08.806979Z",
     "iopub.status.busy": "2022-09-26T11:17:08.806725Z",
     "iopub.status.idle": "2022-09-26T11:17:08.813204Z",
     "shell.execute_reply": "2022-09-26T11:17:08.811839Z",
     "shell.execute_reply.started": "2022-09-26T11:17:08.806956Z"
    }
   },
   "outputs": [
    {
     "data": {
      "text/plain": [
       "torch.Size([1, 3, 3])"
      ]
     },
     "execution_count": 15,
     "metadata": {},
     "output_type": "execute_result"
    }
   ],
   "source": [
    "TENSOR.shape"
   ]
  },
  {
   "cell_type": "code",
   "execution_count": 16,
   "id": "ce1654ec-e039-4f74-957b-d31e77639b73",
   "metadata": {
    "execution": {
     "iopub.execute_input": "2022-09-26T11:17:08.815292Z",
     "iopub.status.busy": "2022-09-26T11:17:08.814815Z",
     "iopub.status.idle": "2022-09-26T11:17:08.823219Z",
     "shell.execute_reply": "2022-09-26T11:17:08.822305Z",
     "shell.execute_reply.started": "2022-09-26T11:17:08.815292Z"
    }
   },
   "outputs": [
    {
     "data": {
      "text/plain": [
       "tensor([[1, 2, 3],\n",
       "        [3, 6, 9],\n",
       "        [2, 4, 5]])"
      ]
     },
     "execution_count": 16,
     "metadata": {},
     "output_type": "execute_result"
    }
   ],
   "source": [
    "TENSOR[0]"
   ]
  },
  {
   "cell_type": "code",
   "execution_count": 17,
   "id": "fe9575ff-431a-492b-bb35-dd519f9ff3d1",
   "metadata": {
    "execution": {
     "iopub.execute_input": "2022-09-26T11:17:08.824890Z",
     "iopub.status.busy": "2022-09-26T11:17:08.824315Z",
     "iopub.status.idle": "2022-09-26T11:17:08.837700Z",
     "shell.execute_reply": "2022-09-26T11:17:08.836809Z",
     "shell.execute_reply.started": "2022-09-26T11:17:08.824890Z"
    }
   },
   "outputs": [
    {
     "data": {
      "text/plain": [
       "tensor([[0.7152, 0.3806, 0.6781, 0.7759],\n",
       "        [0.4174, 0.7548, 0.6936, 0.2582],\n",
       "        [0.1029, 0.3388, 0.4259, 0.4816]])"
      ]
     },
     "execution_count": 17,
     "metadata": {},
     "output_type": "execute_result"
    }
   ],
   "source": [
    "# Create a random tensor of size (3, 4)\n",
    "random_tensor = torch.rand(3, 4)\n",
    "random_tensor"
   ]
  },
  {
   "cell_type": "code",
   "execution_count": 18,
   "id": "546a1ecc-1ecb-4415-ad91-d07f9f31e598",
   "metadata": {
    "execution": {
     "iopub.execute_input": "2022-09-26T11:17:08.839951Z",
     "iopub.status.busy": "2022-09-26T11:17:08.839506Z",
     "iopub.status.idle": "2022-09-26T11:17:08.850630Z",
     "shell.execute_reply": "2022-09-26T11:17:08.849803Z",
     "shell.execute_reply.started": "2022-09-26T11:17:08.839915Z"
    }
   },
   "outputs": [
    {
     "data": {
      "text/plain": [
       "(torch.Size([224, 224, 3]), 3)"
      ]
     },
     "execution_count": 18,
     "metadata": {},
     "output_type": "execute_result"
    }
   ],
   "source": [
    "# Create a random tensor with similar size to image tensor\n",
    "rand_image_size = torch.rand(size=(224,224,3)) # height, width, color channels (rgb)\n",
    "rand_image_size.shape, rand_image_size.ndim"
   ]
  },
  {
   "cell_type": "code",
   "execution_count": 19,
   "id": "09d2b649-442f-426d-8fb6-4b59bf4b2ef1",
   "metadata": {
    "execution": {
     "iopub.execute_input": "2022-09-26T11:17:08.852313Z",
     "iopub.status.busy": "2022-09-26T11:17:08.852053Z",
     "iopub.status.idle": "2022-09-26T11:17:08.859922Z",
     "shell.execute_reply": "2022-09-26T11:17:08.858770Z",
     "shell.execute_reply.started": "2022-09-26T11:17:08.852298Z"
    }
   },
   "outputs": [
    {
     "data": {
      "text/plain": [
       "tensor([[0., 0., 0., 0.],\n",
       "        [0., 0., 0., 0.],\n",
       "        [0., 0., 0., 0.]])"
      ]
     },
     "execution_count": 19,
     "metadata": {},
     "output_type": "execute_result"
    }
   ],
   "source": [
    "# Create a tensor of all zeros\n",
    "zeros = torch.zeros(size=(3,4))\n",
    "zeros"
   ]
  },
  {
   "cell_type": "code",
   "execution_count": 20,
   "id": "490b134a-9c69-42b1-894b-ce6e95e8d283",
   "metadata": {
    "execution": {
     "iopub.execute_input": "2022-09-26T11:17:08.861630Z",
     "iopub.status.busy": "2022-09-26T11:17:08.861330Z",
     "iopub.status.idle": "2022-09-26T11:17:08.869070Z",
     "shell.execute_reply": "2022-09-26T11:17:08.868041Z",
     "shell.execute_reply.started": "2022-09-26T11:17:08.861606Z"
    }
   },
   "outputs": [
    {
     "data": {
      "text/plain": [
       "tensor([[1., 1., 1., 1.],\n",
       "        [1., 1., 1., 1.],\n",
       "        [1., 1., 1., 1.]])"
      ]
     },
     "execution_count": 20,
     "metadata": {},
     "output_type": "execute_result"
    }
   ],
   "source": [
    "# Create a tensor of all ones\n",
    "ones = torch.ones(size=(3,4))\n",
    "ones"
   ]
  },
  {
   "cell_type": "code",
   "execution_count": 21,
   "id": "213826a0-6671-483d-a038-fef9d0676cdb",
   "metadata": {
    "execution": {
     "iopub.execute_input": "2022-09-26T11:17:08.870271Z",
     "iopub.status.busy": "2022-09-26T11:17:08.870014Z",
     "iopub.status.idle": "2022-09-26T11:17:08.879632Z",
     "shell.execute_reply": "2022-09-26T11:17:08.878755Z",
     "shell.execute_reply.started": "2022-09-26T11:17:08.870247Z"
    }
   },
   "outputs": [
    {
     "data": {
      "text/plain": [
       "torch.float32"
      ]
     },
     "execution_count": 21,
     "metadata": {},
     "output_type": "execute_result"
    }
   ],
   "source": [
    "ones.dtype"
   ]
  },
  {
   "cell_type": "code",
   "execution_count": 22,
   "id": "e262c357-6562-43f7-afb4-aab1717f1f26",
   "metadata": {
    "execution": {
     "iopub.execute_input": "2022-09-26T11:17:08.882101Z",
     "iopub.status.busy": "2022-09-26T11:17:08.881639Z",
     "iopub.status.idle": "2022-09-26T11:17:08.890733Z",
     "shell.execute_reply": "2022-09-26T11:17:08.889609Z",
     "shell.execute_reply.started": "2022-09-26T11:17:08.882061Z"
    }
   },
   "outputs": [
    {
     "data": {
      "text/plain": [
       "tensor([ 1,  2,  3,  4,  5,  6,  7,  8,  9, 10])"
      ]
     },
     "execution_count": 22,
     "metadata": {},
     "output_type": "execute_result"
    }
   ],
   "source": [
    "# Use torch.arange()\n",
    "arange = torch.arange(start=1, end=11, step=1)\n",
    "arange"
   ]
  },
  {
   "cell_type": "code",
   "execution_count": 23,
   "id": "21b2b176-e654-464a-8cc6-bcedde7ee7f1",
   "metadata": {
    "execution": {
     "iopub.execute_input": "2022-09-26T11:17:08.892538Z",
     "iopub.status.busy": "2022-09-26T11:17:08.892243Z",
     "iopub.status.idle": "2022-09-26T11:17:08.896695Z",
     "shell.execute_reply": "2022-09-26T11:17:08.895707Z",
     "shell.execute_reply.started": "2022-09-26T11:17:08.892512Z"
    }
   },
   "outputs": [],
   "source": [
    "# Creating tensors like"
   ]
  },
  {
   "cell_type": "code",
   "execution_count": 24,
   "id": "2dcb002d-1e88-4e64-9f05-2d232c24e33d",
   "metadata": {
    "execution": {
     "iopub.execute_input": "2022-09-26T11:17:08.898659Z",
     "iopub.status.busy": "2022-09-26T11:17:08.898402Z",
     "iopub.status.idle": "2022-09-26T11:17:08.906068Z",
     "shell.execute_reply": "2022-09-26T11:17:08.905228Z",
     "shell.execute_reply.started": "2022-09-26T11:17:08.898635Z"
    }
   },
   "outputs": [
    {
     "data": {
      "text/plain": [
       "tensor([0, 0, 0, 0, 0, 0, 0, 0, 0, 0])"
      ]
     },
     "execution_count": 24,
     "metadata": {},
     "output_type": "execute_result"
    }
   ],
   "source": [
    "ten_zeros = torch.zeros_like(input=arange)\n",
    "ten_zeros"
   ]
  },
  {
   "cell_type": "code",
   "execution_count": 25,
   "id": "11f84189-27e5-45f9-b30a-beadc671dd29",
   "metadata": {
    "execution": {
     "iopub.execute_input": "2022-09-26T11:17:08.908152Z",
     "iopub.status.busy": "2022-09-26T11:17:08.907772Z",
     "iopub.status.idle": "2022-09-26T11:17:08.917775Z",
     "shell.execute_reply": "2022-09-26T11:17:08.915637Z",
     "shell.execute_reply.started": "2022-09-26T11:17:08.908117Z"
    }
   },
   "outputs": [
    {
     "data": {
      "text/plain": [
       "tensor([3., 6., 9.])"
      ]
     },
     "execution_count": 25,
     "metadata": {},
     "output_type": "execute_result"
    }
   ],
   "source": [
    "exTensor = torch.tensor([3.0, 6.0, 9.0],\n",
    "                        dtype=None, # Data Type\n",
    "                        device=None, # Device it's running on \"cpu\", \"gpu\", etc\n",
    "                        requires_grad=False) # Whether or not to track gradients\n",
    "exTensor"
   ]
  },
  {
   "cell_type": "code",
   "execution_count": 26,
   "id": "261da71a-90f3-4102-a3e3-42b3f95714ea",
   "metadata": {
    "execution": {
     "iopub.execute_input": "2022-09-26T11:17:08.919913Z",
     "iopub.status.busy": "2022-09-26T11:17:08.919491Z",
     "iopub.status.idle": "2022-09-26T11:17:08.928922Z",
     "shell.execute_reply": "2022-09-26T11:17:08.927780Z",
     "shell.execute_reply.started": "2022-09-26T11:17:08.919877Z"
    }
   },
   "outputs": [
    {
     "data": {
      "text/plain": [
       "torch.float32"
      ]
     },
     "execution_count": 26,
     "metadata": {},
     "output_type": "execute_result"
    }
   ],
   "source": [
    "exTensor.dtype"
   ]
  },
  {
   "cell_type": "code",
   "execution_count": 27,
   "id": "541a33be-6e11-40a4-84ef-3df9729ff1c9",
   "metadata": {
    "execution": {
     "iopub.execute_input": "2022-09-26T11:17:08.931267Z",
     "iopub.status.busy": "2022-09-26T11:17:08.930809Z",
     "iopub.status.idle": "2022-09-26T11:17:08.942275Z",
     "shell.execute_reply": "2022-09-26T11:17:08.941074Z",
     "shell.execute_reply.started": "2022-09-26T11:17:08.931218Z"
    }
   },
   "outputs": [
    {
     "data": {
      "text/plain": [
       "tensor([3., 6., 9.], dtype=torch.float16)"
      ]
     },
     "execution_count": 27,
     "metadata": {},
     "output_type": "execute_result"
    }
   ],
   "source": [
    "f16tensor = exTensor.type(torch.float16)\n",
    "f16tensor"
   ]
  },
  {
   "cell_type": "code",
   "execution_count": 28,
   "id": "6550e7bf-b16e-4104-a57d-a373944c55ab",
   "metadata": {
    "execution": {
     "iopub.execute_input": "2022-09-26T11:17:08.949849Z",
     "iopub.status.busy": "2022-09-26T11:17:08.949415Z",
     "iopub.status.idle": "2022-09-26T11:17:08.957459Z",
     "shell.execute_reply": "2022-09-26T11:17:08.955731Z",
     "shell.execute_reply.started": "2022-09-26T11:17:08.949813Z"
    }
   },
   "outputs": [
    {
     "data": {
      "text/plain": [
       "device(type='cpu')"
      ]
     },
     "execution_count": 28,
     "metadata": {},
     "output_type": "execute_result"
    }
   ],
   "source": [
    "exTensor.device"
   ]
  },
  {
   "cell_type": "code",
   "execution_count": 29,
   "id": "822cd8e8-8e20-4ed6-ab62-2ddd001e2f21",
   "metadata": {
    "execution": {
     "iopub.execute_input": "2022-09-26T11:17:08.959200Z",
     "iopub.status.busy": "2022-09-26T11:17:08.958878Z",
     "iopub.status.idle": "2022-09-26T11:17:08.967342Z",
     "shell.execute_reply": "2022-09-26T11:17:08.966120Z",
     "shell.execute_reply.started": "2022-09-26T11:17:08.959173Z"
    }
   },
   "outputs": [
    {
     "data": {
      "text/plain": [
       "tensor([11, 12, 13])"
      ]
     },
     "execution_count": 29,
     "metadata": {},
     "output_type": "execute_result"
    }
   ],
   "source": [
    "tensor = torch.tensor([1, 2, 3])\n",
    "tensor + 10"
   ]
  },
  {
   "cell_type": "code",
   "execution_count": 30,
   "id": "210f1522-9c91-4b48-b279-8e9f87b938c1",
   "metadata": {
    "execution": {
     "iopub.execute_input": "2022-09-26T11:17:08.969785Z",
     "iopub.status.busy": "2022-09-26T11:17:08.969374Z",
     "iopub.status.idle": "2022-09-26T11:17:08.978786Z",
     "shell.execute_reply": "2022-09-26T11:17:08.976956Z",
     "shell.execute_reply.started": "2022-09-26T11:17:08.969747Z"
    }
   },
   "outputs": [
    {
     "data": {
      "text/plain": [
       "tensor(14)"
      ]
     },
     "execution_count": 30,
     "metadata": {},
     "output_type": "execute_result"
    }
   ],
   "source": [
    "# Element wise multiplication\n",
    "torch.matmul(tensor, tensor)"
   ]
  },
  {
   "cell_type": "code",
   "execution_count": 31,
   "id": "396edb5a-2412-4db4-a1ae-88be5ab74246",
   "metadata": {
    "execution": {
     "iopub.execute_input": "2022-09-26T11:17:08.981963Z",
     "iopub.status.busy": "2022-09-26T11:17:08.981513Z",
     "iopub.status.idle": "2022-09-26T11:17:08.991407Z",
     "shell.execute_reply": "2022-09-26T11:17:08.990066Z",
     "shell.execute_reply.started": "2022-09-26T11:17:08.981963Z"
    }
   },
   "outputs": [
    {
     "data": {
      "text/plain": [
       "tensor([[ 27,  30,  33],\n",
       "        [ 61,  68,  75],\n",
       "        [ 95, 106, 117]])"
      ]
     },
     "execution_count": 31,
     "metadata": {},
     "output_type": "execute_result"
    }
   ],
   "source": [
    "tensor1 = torch.tensor([[1, 2],\n",
    "                       [3, 4],\n",
    "                       [5, 6]])\n",
    "tensor2 = torch.tensor([[7, 10],\n",
    "                       [8, 11],\n",
    "                       [9, 12]])\n",
    "\n",
    "#Error: tensor.mm(tensor1, tensor2) # same as matmul just less chars\n",
    "\n",
    "torch.mm(tensor1, tensor2.T)"
   ]
  },
  {
   "cell_type": "code",
   "execution_count": 32,
   "id": "cccdae05-14ba-4c93-b5e7-fe9683d059ff",
   "metadata": {
    "execution": {
     "iopub.execute_input": "2022-09-26T11:17:08.993697Z",
     "iopub.status.busy": "2022-09-26T11:17:08.993284Z",
     "iopub.status.idle": "2022-09-26T11:17:09.005313Z",
     "shell.execute_reply": "2022-09-26T11:17:09.004531Z",
     "shell.execute_reply.started": "2022-09-26T11:17:08.993661Z"
    }
   },
   "outputs": [
    {
     "name": "stdout",
     "output_type": "stream",
     "text": [
      "tensor(0)\n",
      "tensor(90)\n",
      "tensor(45.)\n",
      "tensor(450)\n"
     ]
    }
   ],
   "source": [
    "# Min, Max, Mean, Sum\n",
    "x = torch.arange(0, 100, 10)\n",
    "print(x.min())\n",
    "print(x.max())\n",
    "print(torch.mean(x.type(torch.float32))) # Requires float or complex\n",
    "print(x.sum())"
   ]
  },
  {
   "cell_type": "code",
   "execution_count": 34,
   "id": "7de2d69d-2a95-4ed3-877c-d9ecc55e91b3",
   "metadata": {
    "execution": {
     "iopub.execute_input": "2022-09-26T11:17:12.483243Z",
     "iopub.status.busy": "2022-09-26T11:17:12.482879Z",
     "iopub.status.idle": "2022-09-26T11:17:12.489650Z",
     "shell.execute_reply": "2022-09-26T11:17:12.488465Z",
     "shell.execute_reply.started": "2022-09-26T11:17:12.483218Z"
    }
   },
   "outputs": [
    {
     "name": "stdout",
     "output_type": "stream",
     "text": [
      "tensor(0)\n",
      "tensor(9)\n"
     ]
    }
   ],
   "source": [
    "# Find position\n",
    "print(x.argmin())\n",
    "print(x.argmax())"
   ]
  },
  {
   "cell_type": "code",
   "execution_count": 3,
   "id": "7fde2920-2f8e-4ea2-bba4-6f47a19bee98",
   "metadata": {
    "execution": {
     "iopub.execute_input": "2022-09-26T12:09:47.864958Z",
     "iopub.status.busy": "2022-09-26T12:09:47.864687Z",
     "iopub.status.idle": "2022-09-26T12:09:47.873881Z",
     "shell.execute_reply": "2022-09-26T12:09:47.873081Z",
     "shell.execute_reply.started": "2022-09-26T12:09:47.864933Z"
    }
   },
   "outputs": [
    {
     "data": {
      "text/plain": [
       "(tensor([1., 2., 3., 4., 5., 6., 7., 8., 9.]), torch.Size([9]))"
      ]
     },
     "execution_count": 3,
     "metadata": {},
     "output_type": "execute_result"
    }
   ],
   "source": [
    "import torch\n",
    "x = torch.arange (1., 10.)\n",
    "x, x.shape"
   ]
  },
  {
   "cell_type": "code",
   "execution_count": 4,
   "id": "df922a3a-9d18-43bc-90d4-80312bb807b1",
   "metadata": {
    "execution": {
     "iopub.execute_input": "2022-09-26T12:09:47.878469Z",
     "iopub.status.busy": "2022-09-26T12:09:47.877764Z",
     "iopub.status.idle": "2022-09-26T12:09:47.889720Z",
     "shell.execute_reply": "2022-09-26T12:09:47.888227Z",
     "shell.execute_reply.started": "2022-09-26T12:09:47.878422Z"
    }
   },
   "outputs": [
    {
     "data": {
      "text/plain": [
       "(tensor([[1., 2., 3., 4., 5., 6., 7., 8., 9.]]), torch.Size([1, 9]))"
      ]
     },
     "execution_count": 4,
     "metadata": {},
     "output_type": "execute_result"
    }
   ],
   "source": [
    "# Reshape (has to equal num of elements)\n",
    "x_reshaped = x.reshape(1, 9)\n",
    "x_reshaped, x_reshaped.shape"
   ]
  },
  {
   "cell_type": "code",
   "execution_count": 5,
   "id": "8eef9966-4f30-4513-82ec-73bacd12fbff",
   "metadata": {
    "execution": {
     "iopub.execute_input": "2022-09-26T12:09:47.891777Z",
     "iopub.status.busy": "2022-09-26T12:09:47.891311Z",
     "iopub.status.idle": "2022-09-26T12:09:47.900040Z",
     "shell.execute_reply": "2022-09-26T12:09:47.899102Z",
     "shell.execute_reply.started": "2022-09-26T12:09:47.891735Z"
    }
   },
   "outputs": [
    {
     "data": {
      "text/plain": [
       "(tensor([[1., 2., 3., 4., 5., 6., 7., 8., 9.]]), torch.Size([1, 9]))"
      ]
     },
     "execution_count": 5,
     "metadata": {},
     "output_type": "execute_result"
    }
   ],
   "source": [
    "# Change view\n",
    "z = x.view(1,9)\n",
    "z, z.shape"
   ]
  },
  {
   "cell_type": "code",
   "execution_count": 6,
   "id": "1911abbf-e34d-418d-a1ed-3bdeaea286a4",
   "metadata": {
    "execution": {
     "iopub.execute_input": "2022-09-26T12:09:47.902135Z",
     "iopub.status.busy": "2022-09-26T12:09:47.901277Z",
     "iopub.status.idle": "2022-09-26T12:09:47.909796Z",
     "shell.execute_reply": "2022-09-26T12:09:47.908705Z",
     "shell.execute_reply.started": "2022-09-26T12:09:47.902093Z"
    }
   },
   "outputs": [
    {
     "data": {
      "text/plain": [
       "(tensor([[5., 2., 3., 4., 5., 6., 7., 8., 9.]]),\n",
       " tensor([5., 2., 3., 4., 5., 6., 7., 8., 9.]))"
      ]
     },
     "execution_count": 6,
     "metadata": {},
     "output_type": "execute_result"
    }
   ],
   "source": [
    "# Changing z changes x (shares same memory)\n",
    "z[:, 0] = 5\n",
    "z, x"
   ]
  },
  {
   "cell_type": "code",
   "execution_count": 7,
   "id": "954ffffd-741c-49d8-9c85-365c68d57f50",
   "metadata": {
    "execution": {
     "iopub.execute_input": "2022-09-26T12:09:47.911755Z",
     "iopub.status.busy": "2022-09-26T12:09:47.911163Z",
     "iopub.status.idle": "2022-09-26T12:09:47.920960Z",
     "shell.execute_reply": "2022-09-26T12:09:47.920027Z",
     "shell.execute_reply.started": "2022-09-26T12:09:47.911729Z"
    }
   },
   "outputs": [
    {
     "data": {
      "text/plain": [
       "tensor([[5., 2., 3., 4., 5., 6., 7., 8., 9.],\n",
       "        [5., 2., 3., 4., 5., 6., 7., 8., 9.],\n",
       "        [5., 2., 3., 4., 5., 6., 7., 8., 9.],\n",
       "        [5., 2., 3., 4., 5., 6., 7., 8., 9.]])"
      ]
     },
     "execution_count": 7,
     "metadata": {},
     "output_type": "execute_result"
    }
   ],
   "source": [
    "# Stack tensors on top of each other\n",
    "x_stacked = torch.stack([x, x, x, x], dim=0)\n",
    "x_stacked\n",
    "# hstack and vstack also"
   ]
  },
  {
   "cell_type": "code",
   "execution_count": 8,
   "id": "92740ac8-95dd-47c1-887b-41f02aa40e7a",
   "metadata": {
    "execution": {
     "iopub.execute_input": "2022-09-26T12:09:47.922299Z",
     "iopub.status.busy": "2022-09-26T12:09:47.921996Z",
     "iopub.status.idle": "2022-09-26T12:09:47.929633Z",
     "shell.execute_reply": "2022-09-26T12:09:47.928709Z",
     "shell.execute_reply.started": "2022-09-26T12:09:47.922274Z"
    }
   },
   "outputs": [
    {
     "data": {
      "text/plain": [
       "tensor([[5., 2., 3., 4., 5., 6., 7., 8., 9.]])"
      ]
     },
     "execution_count": 8,
     "metadata": {},
     "output_type": "execute_result"
    }
   ],
   "source": [
    "#torch.squeeze() removes all single dimensions from a target tensor\n",
    "x_reshaped"
   ]
  },
  {
   "cell_type": "code",
   "execution_count": 9,
   "id": "f409b655-2f07-4da9-bf5c-a51eb6516f9b",
   "metadata": {
    "execution": {
     "iopub.execute_input": "2022-09-26T12:09:47.931274Z",
     "iopub.status.busy": "2022-09-26T12:09:47.930935Z",
     "iopub.status.idle": "2022-09-26T12:09:47.939937Z",
     "shell.execute_reply": "2022-09-26T12:09:47.938444Z",
     "shell.execute_reply.started": "2022-09-26T12:09:47.931274Z"
    }
   },
   "outputs": [
    {
     "data": {
      "text/plain": [
       "tensor([5., 2., 3., 4., 5., 6., 7., 8., 9.])"
      ]
     },
     "execution_count": 9,
     "metadata": {},
     "output_type": "execute_result"
    }
   ],
   "source": [
    "x_squeezed = x_reshaped.squeeze()\n",
    "x_squeezed"
   ]
  },
  {
   "cell_type": "code",
   "execution_count": 10,
   "id": "e81dda25-34da-4d8a-82a0-4f3038206adf",
   "metadata": {
    "execution": {
     "iopub.execute_input": "2022-09-26T12:09:47.942643Z",
     "iopub.status.busy": "2022-09-26T12:09:47.942473Z",
     "iopub.status.idle": "2022-09-26T12:09:47.950845Z",
     "shell.execute_reply": "2022-09-26T12:09:47.949986Z",
     "shell.execute_reply.started": "2022-09-26T12:09:47.942643Z"
    }
   },
   "outputs": [
    {
     "name": "stdout",
     "output_type": "stream",
     "text": [
      "tensor([5., 2., 3., 4., 5., 6., 7., 8., 9.]) torch.Size([9])\n",
      "tensor([[5., 2., 3., 4., 5., 6., 7., 8., 9.]]) torch.Size([1, 9])\n"
     ]
    }
   ],
   "source": [
    "# torch.unsqueeze() adds a dimension to tensor at a specific dim (dimension)\n",
    "print(x_squeezed, x_squeezed.shape)\n",
    "\n",
    "x_unsqueezed = x_squeezed.unsqueeze(dim=0)\n",
    "print(x_unsqueezed, x_unsqueezed.shape)"
   ]
  },
  {
   "cell_type": "code",
   "execution_count": 11,
   "id": "622d4d2a-f925-4388-a34d-4a9f072aae94",
   "metadata": {
    "execution": {
     "iopub.execute_input": "2022-09-26T12:09:47.952412Z",
     "iopub.status.busy": "2022-09-26T12:09:47.952145Z",
     "iopub.status.idle": "2022-09-26T12:09:47.960857Z",
     "shell.execute_reply": "2022-09-26T12:09:47.959367Z",
     "shell.execute_reply.started": "2022-09-26T12:09:47.952386Z"
    }
   },
   "outputs": [
    {
     "name": "stdout",
     "output_type": "stream",
     "text": [
      "torch.Size([224, 244, 3]) torch.Size([3, 224, 244])\n"
     ]
    }
   ],
   "source": [
    "#torch.permute() rearranges the dimensions of a target tensor in a specified order\n",
    "x_original = torch.rand(size=(224, 244, 3)) # height, width, color chnls\n",
    "\n",
    "# permute original tensor to rearrange the axis (or dim) order\n",
    "x_permuted = x_original.permute(2, 0 , 1) #shifts axis 0->1, 1->2, 2->0\n",
    "print(x_original.shape, x_permuted.shape)"
   ]
  },
  {
   "cell_type": "code",
   "execution_count": 12,
   "id": "e239731b-8c55-481e-8c50-47d27501cdef",
   "metadata": {
    "execution": {
     "iopub.execute_input": "2022-09-26T12:11:23.353202Z",
     "iopub.status.busy": "2022-09-26T12:11:23.352818Z",
     "iopub.status.idle": "2022-09-26T12:11:23.361322Z",
     "shell.execute_reply": "2022-09-26T12:11:23.360576Z",
     "shell.execute_reply.started": "2022-09-26T12:11:23.353175Z"
    }
   },
   "outputs": [
    {
     "data": {
      "text/plain": [
       "(tensor(728218.), tensor(728218.))"
      ]
     },
     "execution_count": 12,
     "metadata": {},
     "output_type": "execute_result"
    }
   ],
   "source": [
    "x_original[0, 0, 0] = 728218\n",
    "x_original[0, 0, 0], x_permuted[0, 0, 0]"
   ]
  },
  {
   "cell_type": "code",
   "execution_count": 13,
   "id": "f7cd6be2-3e6d-4a0d-9a74-7527a5e42466",
   "metadata": {
    "execution": {
     "iopub.execute_input": "2022-09-26T12:12:51.226229Z",
     "iopub.status.busy": "2022-09-26T12:12:51.225079Z",
     "iopub.status.idle": "2022-09-26T12:12:51.234298Z",
     "shell.execute_reply": "2022-09-26T12:12:51.233409Z",
     "shell.execute_reply.started": "2022-09-26T12:12:51.226198Z"
    }
   },
   "outputs": [
    {
     "data": {
      "text/plain": [
       "(tensor([[[1, 2, 3],\n",
       "          [4, 5, 6],\n",
       "          [7, 8, 9]]]),\n",
       " torch.Size([1, 3, 3]))"
      ]
     },
     "execution_count": 13,
     "metadata": {},
     "output_type": "execute_result"
    }
   ],
   "source": [
    "import torch\n",
    "x = torch.arange(1, 10).reshape(1, 3, 3)\n",
    "x, x.shape"
   ]
  },
  {
   "cell_type": "code",
   "execution_count": 14,
   "id": "6a2a6398-081d-4434-bdf2-6377a96af31a",
   "metadata": {
    "execution": {
     "iopub.execute_input": "2022-09-26T12:13:26.717975Z",
     "iopub.status.busy": "2022-09-26T12:13:26.717615Z",
     "iopub.status.idle": "2022-09-26T12:13:26.726709Z",
     "shell.execute_reply": "2022-09-26T12:13:26.725608Z",
     "shell.execute_reply.started": "2022-09-26T12:13:26.717949Z"
    }
   },
   "outputs": [
    {
     "data": {
      "text/plain": [
       "tensor([[1, 2, 3],\n",
       "        [4, 5, 6],\n",
       "        [7, 8, 9]])"
      ]
     },
     "execution_count": 14,
     "metadata": {},
     "output_type": "execute_result"
    }
   ],
   "source": [
    "x[0]"
   ]
  },
  {
   "cell_type": "code",
   "execution_count": 15,
   "id": "181bf2b6-7453-465e-9c4c-17047d58ea6e",
   "metadata": {
    "execution": {
     "iopub.execute_input": "2022-09-26T12:13:58.483837Z",
     "iopub.status.busy": "2022-09-26T12:13:58.483273Z",
     "iopub.status.idle": "2022-09-26T12:13:58.491812Z",
     "shell.execute_reply": "2022-09-26T12:13:58.490785Z",
     "shell.execute_reply.started": "2022-09-26T12:13:58.483792Z"
    }
   },
   "outputs": [
    {
     "data": {
      "text/plain": [
       "tensor([1, 2, 3])"
      ]
     },
     "execution_count": 15,
     "metadata": {},
     "output_type": "execute_result"
    }
   ],
   "source": [
    "x[0][0] # dim 1"
   ]
  },
  {
   "cell_type": "code",
   "execution_count": 16,
   "id": "5370a080-1a30-4f51-95f8-590c15ba1aae",
   "metadata": {
    "execution": {
     "iopub.execute_input": "2022-09-26T12:14:32.762161Z",
     "iopub.status.busy": "2022-09-26T12:14:32.761809Z",
     "iopub.status.idle": "2022-09-26T12:14:32.767996Z",
     "shell.execute_reply": "2022-09-26T12:14:32.767142Z",
     "shell.execute_reply.started": "2022-09-26T12:14:32.762136Z"
    }
   },
   "outputs": [
    {
     "data": {
      "text/plain": [
       "tensor(1)"
      ]
     },
     "execution_count": 16,
     "metadata": {},
     "output_type": "execute_result"
    }
   ],
   "source": [
    "x[0][0][0]"
   ]
  },
  {
   "cell_type": "code",
   "execution_count": 17,
   "id": "259f43d3-958e-40b9-895c-713ed78fdfe8",
   "metadata": {
    "execution": {
     "iopub.execute_input": "2022-09-26T12:16:42.107788Z",
     "iopub.status.busy": "2022-09-26T12:16:42.107020Z",
     "iopub.status.idle": "2022-09-26T12:16:42.114225Z",
     "shell.execute_reply": "2022-09-26T12:16:42.113379Z",
     "shell.execute_reply.started": "2022-09-26T12:16:42.107760Z"
    }
   },
   "outputs": [
    {
     "data": {
      "text/plain": [
       "tensor([[1, 2, 3]])"
      ]
     },
     "execution_count": 17,
     "metadata": {},
     "output_type": "execute_result"
    }
   ],
   "source": [
    "#Use : to select all of target dimension\n",
    "x[:, 0]"
   ]
  },
  {
   "cell_type": "code",
   "execution_count": 18,
   "id": "9f593ea1-dd3e-45a9-b816-da5461d0b276",
   "metadata": {
    "execution": {
     "iopub.execute_input": "2022-09-26T12:18:20.396807Z",
     "iopub.status.busy": "2022-09-26T12:18:20.396464Z",
     "iopub.status.idle": "2022-09-26T12:18:20.404201Z",
     "shell.execute_reply": "2022-09-26T12:18:20.402762Z",
     "shell.execute_reply.started": "2022-09-26T12:18:20.396782Z"
    }
   },
   "outputs": [
    {
     "data": {
      "text/plain": [
       "tensor([[2, 5, 8]])"
      ]
     },
     "execution_count": 18,
     "metadata": {},
     "output_type": "execute_result"
    }
   ],
   "source": [
    "# Get all values of 0th and 1st dim and index 1 or 2nd\n",
    "x[:, :, 1]"
   ]
  },
  {
   "cell_type": "code",
   "execution_count": 19,
   "id": "5d2db43e-c8ba-436a-8289-6a477d8d43eb",
   "metadata": {
    "execution": {
     "iopub.execute_input": "2022-09-26T12:19:30.843058Z",
     "iopub.status.busy": "2022-09-26T12:19:30.842361Z",
     "iopub.status.idle": "2022-09-26T12:19:30.852885Z",
     "shell.execute_reply": "2022-09-26T12:19:30.850958Z",
     "shell.execute_reply.started": "2022-09-26T12:19:30.843058Z"
    }
   },
   "outputs": [
    {
     "data": {
      "text/plain": [
       "tensor([5])"
      ]
     },
     "execution_count": 19,
     "metadata": {},
     "output_type": "execute_result"
    }
   ],
   "source": [
    "x[:, 1, 1]"
   ]
  },
  {
   "cell_type": "code",
   "execution_count": 20,
   "id": "1f8d150a-231f-4f68-b54c-d449807f4d6d",
   "metadata": {
    "execution": {
     "iopub.execute_input": "2022-09-26T12:27:35.436771Z",
     "iopub.status.busy": "2022-09-26T12:27:35.436431Z",
     "iopub.status.idle": "2022-09-26T12:27:35.444327Z",
     "shell.execute_reply": "2022-09-26T12:27:35.443276Z",
     "shell.execute_reply.started": "2022-09-26T12:27:35.436747Z"
    }
   },
   "outputs": [
    {
     "data": {
      "text/plain": [
       "tensor([1, 2, 3])"
      ]
     },
     "execution_count": 20,
     "metadata": {},
     "output_type": "execute_result"
    }
   ],
   "source": [
    "x[0, 0, :]"
   ]
  },
  {
   "cell_type": "code",
   "execution_count": 1,
   "id": "48648e9c-130d-4cc8-a229-0110e84c1716",
   "metadata": {
    "execution": {
     "iopub.execute_input": "2022-09-26T13:11:01.105439Z",
     "iopub.status.busy": "2022-09-26T13:11:01.105037Z",
     "iopub.status.idle": "2022-09-26T13:11:03.580803Z",
     "shell.execute_reply": "2022-09-26T13:11:03.580016Z",
     "shell.execute_reply.started": "2022-09-26T13:11:01.105367Z"
    }
   },
   "outputs": [
    {
     "data": {
      "text/plain": [
       "(array([1., 2., 3., 4., 5., 6., 7.]),\n",
       " tensor([1., 2., 3., 4., 5., 6., 7.], dtype=torch.float64))"
      ]
     },
     "execution_count": 1,
     "metadata": {},
     "output_type": "execute_result"
    }
   ],
   "source": [
    "#Numpy array to tensor\n",
    "import torch\n",
    "import numpy as np\n",
    "\n",
    "array = np.arange(1.0, 8.0)\n",
    "tensor = torch.from_numpy(array) # when converting pytorch reflects numpy's default datatype (float64) unless specified\n",
    "array, tensor"
   ]
  },
  {
   "cell_type": "code",
   "execution_count": 2,
   "id": "fd3717a8-7575-4826-a5cb-3d98158b0a17",
   "metadata": {
    "execution": {
     "iopub.execute_input": "2022-09-26T13:11:09.552244Z",
     "iopub.status.busy": "2022-09-26T13:11:09.551548Z",
     "iopub.status.idle": "2022-09-26T13:11:09.558467Z",
     "shell.execute_reply": "2022-09-26T13:11:09.557628Z",
     "shell.execute_reply.started": "2022-09-26T13:11:09.552217Z"
    }
   },
   "outputs": [
    {
     "data": {
      "text/plain": [
       "(array([2., 3., 4., 5., 6., 7., 8.]),\n",
       " tensor([1., 2., 3., 4., 5., 6., 7.], dtype=torch.float64))"
      ]
     },
     "execution_count": 2,
     "metadata": {},
     "output_type": "execute_result"
    }
   ],
   "source": [
    "# change value of array\n",
    "array = array + 1\n",
    "array, tensor"
   ]
  },
  {
   "cell_type": "code",
   "execution_count": 4,
   "id": "704aeeb5-41e3-4a4d-b68d-869c98843724",
   "metadata": {
    "execution": {
     "iopub.execute_input": "2022-09-26T13:12:23.217496Z",
     "iopub.status.busy": "2022-09-26T13:12:23.217147Z",
     "iopub.status.idle": "2022-09-26T13:12:23.226923Z",
     "shell.execute_reply": "2022-09-26T13:12:23.225884Z",
     "shell.execute_reply.started": "2022-09-26T13:12:23.217478Z"
    }
   },
   "outputs": [
    {
     "data": {
      "text/plain": [
       "(tensor([1., 1., 1., 1., 1., 1., 1.]),\n",
       " array([1., 1., 1., 1., 1., 1., 1.], dtype=float32))"
      ]
     },
     "execution_count": 4,
     "metadata": {},
     "output_type": "execute_result"
    }
   ],
   "source": [
    "#Tensor to numpy array\n",
    "tensor = torch.ones(7)\n",
    "numpy_tensor = tensor.numpy()\n",
    "tensor, numpy_tensor"
   ]
  },
  {
   "cell_type": "code",
   "execution_count": 7,
   "id": "03665147-3d36-4284-b6ca-cdb714eb9079",
   "metadata": {
    "execution": {
     "iopub.execute_input": "2022-09-26T13:14:16.979097Z",
     "iopub.status.busy": "2022-09-26T13:14:16.978738Z",
     "iopub.status.idle": "2022-09-26T13:14:16.990795Z",
     "shell.execute_reply": "2022-09-26T13:14:16.989851Z",
     "shell.execute_reply.started": "2022-09-26T13:14:16.979071Z"
    }
   },
   "outputs": [
    {
     "data": {
      "text/plain": [
       "(tensor([2., 2., 2., 2., 2., 2., 2.]),\n",
       " array([1., 1., 1., 1., 1., 1., 1.], dtype=float32))"
      ]
     },
     "execution_count": 7,
     "metadata": {},
     "output_type": "execute_result"
    }
   ],
   "source": [
    "#Change the tensor, doesn't change numpy\n",
    "tensor = tensor + 1\n",
    "tensor, numpy_tensor"
   ]
  },
  {
   "cell_type": "code",
   "execution_count": 9,
   "id": "f481072f-13b0-4bae-8ce0-36ad9cc43de4",
   "metadata": {
    "execution": {
     "iopub.execute_input": "2022-09-26T13:58:38.730399Z",
     "iopub.status.busy": "2022-09-26T13:58:38.729980Z",
     "iopub.status.idle": "2022-09-26T13:58:38.738945Z",
     "shell.execute_reply": "2022-09-26T13:58:38.737878Z",
     "shell.execute_reply.started": "2022-09-26T13:58:38.730372Z"
    }
   },
   "outputs": [
    {
     "name": "stdout",
     "output_type": "stream",
     "text": [
      "tensor([[6.3914e-04, 7.8566e-01, 8.1927e-01, 2.9395e-01],\n",
      "        [9.3135e-01, 6.0171e-02, 3.6868e-02, 1.4815e-01],\n",
      "        [9.9757e-01, 8.5508e-01, 1.9006e-01, 7.7246e-01]]) tensor([[0.4113, 0.8417, 0.8106, 0.3708],\n",
      "        [0.5182, 0.3210, 0.9286, 0.2502],\n",
      "        [0.7688, 0.5101, 0.6590, 0.6990]]) tensor([[False, False, False, False],\n",
      "        [False, False, False, False],\n",
      "        [False, False, False, False]])\n"
     ]
    }
   ],
   "source": [
    "#reproducibility \n",
    "import torch\n",
    "\n",
    "randTensor1 = torch.rand(3, 4)\n",
    "randTensor2 = torch.rand(3, 4)\n",
    "\n",
    "print(randTensor1, randTensor2, randTensor1 == randTensor2)"
   ]
  },
  {
   "cell_type": "code",
   "execution_count": 11,
   "id": "a6ea538e-90f1-4c4e-b5e5-a66a70cc59a4",
   "metadata": {
    "execution": {
     "iopub.execute_input": "2022-09-26T14:03:33.505106Z",
     "iopub.status.busy": "2022-09-26T14:03:33.504680Z",
     "iopub.status.idle": "2022-09-26T14:03:33.514079Z",
     "shell.execute_reply": "2022-09-26T14:03:33.513197Z",
     "shell.execute_reply.started": "2022-09-26T14:03:33.505079Z"
    }
   },
   "outputs": [
    {
     "name": "stdout",
     "output_type": "stream",
     "text": [
      "tensor([[0.8823, 0.9150, 0.3829, 0.9593],\n",
      "        [0.3904, 0.6009, 0.2566, 0.7936],\n",
      "        [0.9408, 0.1332, 0.9346, 0.5936]]) tensor([[0.8823, 0.9150, 0.3829, 0.9593],\n",
      "        [0.3904, 0.6009, 0.2566, 0.7936],\n",
      "        [0.9408, 0.1332, 0.9346, 0.5936]]) tensor([[True, True, True, True],\n",
      "        [True, True, True, True],\n",
      "        [True, True, True, True]])\n"
     ]
    }
   ],
   "source": [
    "# random but reproducible tensors\n",
    "import torch\n",
    "\n",
    "#Set seed\n",
    "RANDOM_SEED = 42\n",
    "torch.manual_seed(RANDOM_SEED)\n",
    "\n",
    "randTensor3 = torch.rand(3,4)\n",
    "torch.manual_seed(RANDOM_SEED) #Required to reset otherwise it changes\n",
    "randTensor4 = torch.rand(3,4)\n",
    "print(randTensor3, randTensor4, randTensor3 == randTensor4)"
   ]
  },
  {
   "cell_type": "code",
   "execution_count": 12,
   "id": "72e61dc7-c2f9-4857-a19b-fbef7970f50b",
   "metadata": {
    "execution": {
     "iopub.execute_input": "2022-09-26T14:16:11.230191Z",
     "iopub.status.busy": "2022-09-26T14:16:11.229799Z",
     "iopub.status.idle": "2022-09-26T14:16:11.969492Z",
     "shell.execute_reply": "2022-09-26T14:16:11.968300Z",
     "shell.execute_reply.started": "2022-09-26T14:16:11.230164Z"
    }
   },
   "outputs": [
    {
     "name": "stdout",
     "output_type": "stream",
     "text": [
      "Mon Sep 26 14:16:11 2022       \n",
      "+-----------------------------------------------------------------------------+\n",
      "| NVIDIA-SMI 510.73.05    Driver Version: 510.73.05    CUDA Version: 11.6     |\n",
      "|-------------------------------+----------------------+----------------------+\n",
      "| GPU  Name        Persistence-M| Bus-Id        Disp.A | Volatile Uncorr. ECC |\n",
      "| Fan  Temp  Perf  Pwr:Usage/Cap|         Memory-Usage | GPU-Util  Compute M. |\n",
      "|                               |                      |               MIG M. |\n",
      "|===============================+======================+======================|\n",
      "|   0  Quadro M4000        Off  | 00000000:00:05.0 Off |                  N/A |\n",
      "| 46%   25C    P8    11W / 120W |      3MiB /  8192MiB |      0%      Default |\n",
      "|                               |                      |                  N/A |\n",
      "+-------------------------------+----------------------+----------------------+\n",
      "                                                                               \n",
      "+-----------------------------------------------------------------------------+\n",
      "| Processes:                                                                  |\n",
      "|  GPU   GI   CI        PID   Type   Process name                  GPU Memory |\n",
      "|        ID   ID                                                   Usage      |\n",
      "|=============================================================================|\n",
      "|  No running processes found                                                 |\n",
      "+-----------------------------------------------------------------------------+\n"
     ]
    }
   ],
   "source": [
    " !nvidia-smi"
   ]
  },
  {
   "cell_type": "code",
   "execution_count": 20,
   "id": "a2516874-01e6-4bb6-8026-dd2b0caacd42",
   "metadata": {
    "execution": {
     "iopub.execute_input": "2022-09-26T14:32:24.128798Z",
     "iopub.status.busy": "2022-09-26T14:32:24.128518Z",
     "iopub.status.idle": "2022-09-26T14:32:24.134207Z",
     "shell.execute_reply": "2022-09-26T14:32:24.133506Z",
     "shell.execute_reply.started": "2022-09-26T14:32:24.128776Z"
    }
   },
   "outputs": [
    {
     "data": {
      "text/plain": [
       "True"
      ]
     },
     "execution_count": 20,
     "metadata": {},
     "output_type": "execute_result"
    }
   ],
   "source": [
    "import torch\n",
    "torch.cuda.is_available()"
   ]
  },
  {
   "cell_type": "code",
   "execution_count": 21,
   "id": "727c2faf-9d2c-402b-910e-727604938b79",
   "metadata": {
    "execution": {
     "iopub.execute_input": "2022-09-26T14:32:24.136176Z",
     "iopub.status.busy": "2022-09-26T14:32:24.135931Z",
     "iopub.status.idle": "2022-09-26T14:32:24.141091Z",
     "shell.execute_reply": "2022-09-26T14:32:24.140272Z",
     "shell.execute_reply.started": "2022-09-26T14:32:24.136153Z"
    }
   },
   "outputs": [
    {
     "data": {
      "text/plain": [
       "'cuda'"
      ]
     },
     "execution_count": 21,
     "metadata": {},
     "output_type": "execute_result"
    }
   ],
   "source": [
    "device = \"cuda\" if torch.cuda.is_available() else \"cpu\"\n",
    "device"
   ]
  },
  {
   "cell_type": "code",
   "execution_count": 22,
   "id": "b8c46282-2b03-442b-8d63-9e2d6a148989",
   "metadata": {
    "execution": {
     "iopub.execute_input": "2022-09-26T14:32:24.142388Z",
     "iopub.status.busy": "2022-09-26T14:32:24.142156Z",
     "iopub.status.idle": "2022-09-26T14:32:24.147326Z",
     "shell.execute_reply": "2022-09-26T14:32:24.146459Z",
     "shell.execute_reply.started": "2022-09-26T14:32:24.142366Z"
    }
   },
   "outputs": [
    {
     "data": {
      "text/plain": [
       "1"
      ]
     },
     "execution_count": 22,
     "metadata": {},
     "output_type": "execute_result"
    }
   ],
   "source": [
    "torch.cuda.device_count()"
   ]
  },
  {
   "cell_type": "code",
   "execution_count": 23,
   "id": "41d07be9-7db4-435a-8bf6-bb73e1d9a095",
   "metadata": {
    "execution": {
     "iopub.execute_input": "2022-09-26T14:33:46.245529Z",
     "iopub.status.busy": "2022-09-26T14:33:46.245175Z",
     "iopub.status.idle": "2022-09-26T14:33:46.252227Z",
     "shell.execute_reply": "2022-09-26T14:33:46.251106Z",
     "shell.execute_reply.started": "2022-09-26T14:33:46.245506Z"
    }
   },
   "outputs": [
    {
     "name": "stdout",
     "output_type": "stream",
     "text": [
      "tensor([1, 2, 3]) cpu\n"
     ]
    }
   ],
   "source": [
    "tensor = torch.tensor([1, 2, 3])\n",
    "\n",
    "print(tensor, tensor.device)"
   ]
  },
  {
   "cell_type": "code",
   "execution_count": 24,
   "id": "a8f4cab7-1750-469d-a312-c8f0425dddbd",
   "metadata": {
    "execution": {
     "iopub.execute_input": "2022-09-26T14:34:33.276554Z",
     "iopub.status.busy": "2022-09-26T14:34:33.276201Z",
     "iopub.status.idle": "2022-09-26T14:34:36.601111Z",
     "shell.execute_reply": "2022-09-26T14:34:36.600184Z",
     "shell.execute_reply.started": "2022-09-26T14:34:33.276529Z"
    }
   },
   "outputs": [
    {
     "data": {
      "text/plain": [
       "tensor([1, 2, 3], device='cuda:0')"
      ]
     },
     "execution_count": 24,
     "metadata": {},
     "output_type": "execute_result"
    }
   ],
   "source": [
    "tensorgpu = tensor.to(device)\n",
    "tensorgpu"
   ]
  },
  {
   "cell_type": "code",
   "execution_count": 25,
   "id": "6bcfe68c-3f67-478f-a184-a7710e75f56a",
   "metadata": {
    "execution": {
     "iopub.execute_input": "2022-09-26T14:36:46.423252Z",
     "iopub.status.busy": "2022-09-26T14:36:46.422861Z",
     "iopub.status.idle": "2022-09-26T14:36:46.435452Z",
     "shell.execute_reply": "2022-09-26T14:36:46.434734Z",
     "shell.execute_reply.started": "2022-09-26T14:36:46.423228Z"
    }
   },
   "outputs": [
    {
     "data": {
      "text/plain": [
       "array([1, 2, 3])"
      ]
     },
     "execution_count": 25,
     "metadata": {},
     "output_type": "execute_result"
    }
   ],
   "source": [
    "#Can't transform with numpy on gpu\n",
    "tensorcpu = tensorgpu.cpu().numpy()\n",
    "tensorcpu"
   ]
  },
  {
   "cell_type": "code",
   "execution_count": 26,
   "id": "fff35b25-ce88-4073-b061-55fa78ed3227",
   "metadata": {
    "execution": {
     "iopub.execute_input": "2022-09-26T14:45:36.939247Z",
     "iopub.status.busy": "2022-09-26T14:45:36.938867Z",
     "iopub.status.idle": "2022-09-26T14:45:36.958716Z",
     "shell.execute_reply": "2022-09-26T14:45:36.957678Z",
     "shell.execute_reply.started": "2022-09-26T14:45:36.939216Z"
    }
   },
   "outputs": [],
   "source": [
    "#EXtra \n",
    "randTensor = torch.rand(7,7)\n",
    "tensor2 = torch.rand(1,7)\n",
    "matmul = torch.mm(randTensor, tensor2.T)"
   ]
  }
 ],
 "metadata": {
  "kernelspec": {
   "display_name": "Python 3 (ipykernel)",
   "language": "python",
   "name": "python3"
  },
  "language_info": {
   "codemirror_mode": {
    "name": "ipython",
    "version": 3
   },
   "file_extension": ".py",
   "mimetype": "text/x-python",
   "name": "python",
   "nbconvert_exporter": "python",
   "pygments_lexer": "ipython3",
   "version": "3.9.13"
  }
 },
 "nbformat": 4,
 "nbformat_minor": 5
}
